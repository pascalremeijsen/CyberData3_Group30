{
 "cells": [
  {
   "cell_type": "code",
   "execution_count": 1,
   "metadata": {},
   "outputs": [],
   "source": [
    "with open('capture20110817.txt', 'r') as myfile:\n",
    "    data = myfile.read()\n",
    "    data = ' '.join(data.split()) .split(' ')"
   ]
  },
  {
   "cell_type": "code",
   "execution_count": 8,
   "metadata": {
    "scrolled": true
   },
   "outputs": [],
   "source": [
    "table = data[18:]\n",
    "# elke row is 13 lang, srcIP is 5de, destination 7de\n",
    "\n",
    "#alle sources\n",
    "#srcList = table[4::13]\n",
    "index = [x for x, value in enumerate(table) if value == \"->\"] \n",
    "#table.index(\"->\")\n",
    "index[:] = [y - 1 for y in index]\n",
    "srcArray = [table[i] for i in index]\n"
   ]
  },
  {
   "cell_type": "code",
   "execution_count": 9,
   "metadata": {},
   "outputs": [
    {
     "data": {
      "text/plain": [
       "[('147.32.80.9:53', 904808),\n",
       " ('147.32.84.229:13363', 851776),\n",
       " ('147.32.86.165:12114', 570814),\n",
       " ('147.32.84.94:7103', 200655),\n",
       " ('147.32.84.59:7525', 121924),\n",
       " ('147.32.84.229:443', 67446),\n",
       " ('147.32.80.13:80', 32382),\n",
       " ('147.32.86.165:443', 30352),\n",
       " ('147.32.84.138:4444', 24600),\n",
       " ('147.32.84.2:80', 23778)]"
      ]
     },
     "execution_count": 9,
     "metadata": {},
     "output_type": "execute_result"
    }
   ],
   "source": [
    "from collections import Counter\n",
    "c = Counter(srcArray)\n",
    "c.most_common(10)"
   ]
  },
  {
   "cell_type": "code",
   "execution_count": 11,
   "metadata": {},
   "outputs": [
    {
     "data": {
      "text/plain": [
       "[('147.32.80.9:53', 904808),\n",
       " ('147.32.84.229:13363', 851776),\n",
       " ('147.32.86.165:12114', 570814),\n",
       " ('147.32.84.94:7103', 200655),\n",
       " ('147.32.84.59:7525', 121924),\n",
       " ('147.32.84.229:443', 67446),\n",
       " ('147.32.80.13:80', 32382),\n",
       " ('147.32.86.165:443', 30352),\n",
       " ('147.32.84.138:4444', 24600),\n",
       " ('147.32.84.2:80', 23778),\n",
       " ('147.32.85.26:54145', 18001),\n",
       " ('147.32.84.229:80', 15986),\n",
       " ('74.125.232.216:443', 12253),\n",
       " ('209.85.149.189:443', 9822),\n",
       " ('74.125.39.125:5222', 9633),\n",
       " ('147.32.86.165:80', 9615),\n",
       " ('147.32.85.56:44076', 9609),\n",
       " ('74.125.232.213:443', 9501),\n",
       " ('147.32.87.1', 8992),\n",
       " ('74.125.232.214:443', 8892)]"
      ]
     },
     "execution_count": 11,
     "metadata": {},
     "output_type": "execute_result"
    }
   ],
   "source": [
    "c.most_common(20)"
   ]
  },
  {
   "cell_type": "code",
   "execution_count": null,
   "metadata": {},
   "outputs": [],
   "source": []
  },
  {
   "cell_type": "code",
   "execution_count": null,
   "metadata": {},
   "outputs": [],
   "source": []
  },
  {
   "cell_type": "code",
   "execution_count": null,
   "metadata": {},
   "outputs": [],
   "source": []
  },
  {
   "cell_type": "code",
   "execution_count": null,
   "metadata": {},
   "outputs": [],
   "source": []
  }
 ],
 "metadata": {
  "kernelspec": {
   "display_name": "Python 2",
   "language": "python",
   "name": "python2"
  },
  "language_info": {
   "codemirror_mode": {
    "name": "ipython",
    "version": 2
   },
   "file_extension": ".py",
   "mimetype": "text/x-python",
   "name": "python",
   "nbconvert_exporter": "python",
   "pygments_lexer": "ipython2",
   "version": "2.7.14"
  }
 },
 "nbformat": 4,
 "nbformat_minor": 2
}
