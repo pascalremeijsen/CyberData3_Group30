{
 "cells": [
  {
   "cell_type": "code",
   "execution_count": 2,
   "metadata": {},
   "outputs": [],
   "source": [
    "with open('capture20110817.txt', 'r') as myfile:\n",
    "    data = myfile.read()\n",
    "    data = ' '.join(data.split()) .split(' ')"
   ]
  },
  {
   "cell_type": "code",
   "execution_count": 3,
   "metadata": {
    "scrolled": true
   },
   "outputs": [
    {
     "name": "stdout",
     "output_type": "stream",
     "text": [
      "(8088141L,)\n"
     ]
    }
   ],
   "source": [
    "table = data[18:]\n",
    "# elke row is 13 lang, srcIP is 5de, destination 7de\n",
    "\n",
    "#alle sources\n",
    "#srcList = table[4::13]\n",
    "index = table.index(\"->\")\n",
    "srcArray[index]\n",
    "\n",
    "import numpy as np\n",
    "srcArray = np.array(srcList)\n",
    "print(srcArray.shape)"
   ]
  },
  {
   "cell_type": "code",
   "execution_count": 4,
   "metadata": {},
   "outputs": [],
   "source": [
    "from collections import Counter\n",
    "c = Counter(srcArray)"
   ]
  },
  {
   "cell_type": "code",
   "execution_count": 5,
   "metadata": {},
   "outputs": [
    {
     "data": {
      "text/plain": [
       "[('INT', 1726934),\n",
       " ('1', 633365),\n",
       " ('2011-08-17', 463439),\n",
       " ('PA_', 436293),\n",
       " ('0', 391932),\n",
       " ('->', 352869),\n",
       " ('Background', 345103),\n",
       " ('UDP', 309806),\n",
       " ('0.000', 264931),\n",
       " ('A_', 154853)]"
      ]
     },
     "execution_count": 5,
     "metadata": {},
     "output_type": "execute_result"
    }
   ],
   "source": [
    "c.most_common(10)"
   ]
  },
  {
   "cell_type": "code",
   "execution_count": 6,
   "metadata": {},
   "outputs": [
    {
     "name": "stdout",
     "output_type": "stream",
     "text": [
      "['188.75.133.98:16200' '119.252.172.92:59067' '90.183.101.168:80'\n",
      " '217.169.177.82:56950' '147.32.85.26:54145' '119.252.172.92:59066'\n",
      " '89.185.253.133:443' '147.32.84.14:80' '147.32.86.89:1176'\n",
      " '147.32.86.107:51505']\n"
     ]
    }
   ],
   "source": [
    "print(srcArray[0:10])"
   ]
  },
  {
   "cell_type": "code",
   "execution_count": 8,
   "metadata": {},
   "outputs": [
    {
     "name": "stdout",
     "output_type": "stream",
     "text": [
      "['188.75.133.98:16200' '217.169.177.82:56950' '119.252.172.92:59066']\n"
     ]
    }
   ],
   "source": [
    "index = table.index(\"->\")\n",
    "srcArray[index]"
   ]
  },
  {
   "cell_type": "code",
   "execution_count": 9,
   "metadata": {},
   "outputs": [
    {
     "ename": "TypeError",
     "evalue": "unsupported operand type(s) for -: 'list' and 'int'",
     "output_type": "error",
     "traceback": [
      "\u001b[1;31m---------------------------------------------------------------------------\u001b[0m",
      "\u001b[1;31mTypeError\u001b[0m                                 Traceback (most recent call last)",
      "\u001b[1;32m<ipython-input-9-7514ca0dfa8e>\u001b[0m in \u001b[0;36m<module>\u001b[1;34m()\u001b[0m\n\u001b[0;32m      1\u001b[0m \u001b[0mtest\u001b[0m \u001b[1;33m=\u001b[0m \u001b[1;33m[\u001b[0m\u001b[1;36m1\u001b[0m\u001b[1;33m,\u001b[0m\u001b[1;36m2\u001b[0m\u001b[1;33m,\u001b[0m\u001b[1;36m3\u001b[0m\u001b[1;33m,\u001b[0m\u001b[1;36m4\u001b[0m\u001b[1;33m]\u001b[0m\u001b[1;33m\u001b[0m\u001b[0m\n\u001b[1;32m----> 2\u001b[1;33m \u001b[1;32mprint\u001b[0m\u001b[1;33m(\u001b[0m\u001b[0mtest\u001b[0m \u001b[1;33m-\u001b[0m \u001b[1;36m1\u001b[0m\u001b[1;33m)\u001b[0m\u001b[1;33m\u001b[0m\u001b[0m\n\u001b[0m",
      "\u001b[1;31mTypeError\u001b[0m: unsupported operand type(s) for -: 'list' and 'int'"
     ]
    }
   ],
   "source": [
    "test = [1,2,3,4]\n",
    "print(test - 1)"
   ]
  },
  {
   "cell_type": "code",
   "execution_count": null,
   "metadata": {},
   "outputs": [],
   "source": []
  }
 ],
 "metadata": {
  "kernelspec": {
   "display_name": "Python 2",
   "language": "python",
   "name": "python2"
  },
  "language_info": {
   "codemirror_mode": {
    "name": "ipython",
    "version": 2
   },
   "file_extension": ".py",
   "mimetype": "text/x-python",
   "name": "python",
   "nbconvert_exporter": "python",
   "pygments_lexer": "ipython2",
   "version": "2.7.14"
  }
 },
 "nbformat": 4,
 "nbformat_minor": 2
}
